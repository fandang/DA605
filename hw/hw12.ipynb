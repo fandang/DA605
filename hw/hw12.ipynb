{
 "cells": [
  {
   "cell_type": "code",
   "execution_count": 1,
   "metadata": {
    "collapsed": false
   },
   "outputs": [
    {
     "name": "stdout",
     "output_type": "stream",
     "text": [
      "[0, 1, 2, 3]\n"
     ]
    },
    {
     "name": "stderr",
     "output_type": "stream",
     "text": [
      "C:\\Anaconda2b\\lib\\site-packages\\IPython\\parallel.py:13: ShimWarning: The `IPython.parallel` package has been deprecated. You should import from ipyparallel instead.\n",
      "  \"You should import from ipyparallel instead.\", ShimWarning)\n"
     ]
    }
   ],
   "source": [
    "from IPython import parallel\n",
    "clients = parallel.Client()\n",
    "clients.block = True\n",
    "print clients.ids\n",
    "\n",
    "dview = clients.direct_view()"
   ]
  },
  {
   "cell_type": "code",
   "execution_count": 3,
   "metadata": {
    "collapsed": false
   },
   "outputs": [
    {
     "name": "stdout",
     "output_type": "stream",
     "text": [
      "[stdout:0] finished running.\n",
      "[stdout:1] finished running.\n",
      "[stdout:2] finished running.\n",
      "[stdout:3] finished running.\n"
     ]
    }
   ],
   "source": [
    "%%px\n",
    "import pandas as pd\n",
    "import numpy as np\n",
    "import matplotlib.pyplot as plt\n",
    "from decimal import *\n",
    "SHOW_PLOT = False\n",
    "NUM_DAYS = 20\n",
    "NUM_ITERATIONS = 10000\n",
    "PRICE_FROM_LAST_ROW = 405\n",
    "DEBUG_PRINT_PRICES_IN_LOOP = False\n",
    "df = pd.read_csv('https://raw.githubusercontent.com/fandang/DA602/master/apple.2011.csv')\n",
    "#df = pd.read_csv('apple.2011.csv')\n",
    "df.columns = ['Date','Last','PctChange']\n",
    "df.PctChange = pd.to_numeric(df.PctChange, errors='coerce')\n",
    "df = df[df.PctChange * df.PctChange > 0]\n",
    "df[\"PctChange\"] = df[\"PctChange\"].astype(float)\n",
    "daily_changes = df[\"PctChange\"].tolist()\n",
    "daily_change_min = min(daily_changes)\n",
    "daily_change_max = max(daily_changes)\n",
    "daily_change_mean = np.mean(daily_changes)\n",
    "daily_change_sum = sum(daily_changes)\n",
    "daily_change_count = len(daily_changes)\n",
    "daily_changes = df[\"PctChange\"].tolist()\n",
    "mu = (daily_change_sum / daily_change_count)\n",
    "sigma = np.std(daily_changes)\n",
    "end_prices = []\n",
    "for i in range(0,NUM_ITERATIONS):\n",
    "    daily_price = PRICE_FROM_LAST_ROW\n",
    "    sample = np.random.normal(mu, sigma, NUM_DAYS)\n",
    "    for next_change_pct in sample:\n",
    "        daily_price = daily_price + (daily_price * next_change_pct)\n",
    "    end_prices.append(daily_price)\n",
    "end_prices_sorted = sorted(end_prices)\n",
    "array_index_to_get = NUM_ITERATIONS / 100\n",
    "r = end_prices_sorted[array_index_to_get]\n",
    "print \"finished running.\""
   ]
  },
  {
   "cell_type": "code",
   "execution_count": 4,
   "metadata": {
    "collapsed": false
   },
   "outputs": [
    {
     "name": "stdout",
     "output_type": "stream",
     "text": [
      "[346.51608821223391, 346.57529888003842, 348.05824502071499, 346.08548146688548]\n"
     ]
    }
   ],
   "source": [
    "r = dview.gather('r')\n",
    "print r"
   ]
  },
  {
   "cell_type": "code",
   "execution_count": null,
   "metadata": {
    "collapsed": true
   },
   "outputs": [],
   "source": []
  }
 ],
 "metadata": {
  "kernelspec": {
   "display_name": "Python 2",
   "language": "python",
   "name": "python2"
  },
  "language_info": {
   "codemirror_mode": {
    "name": "ipython",
    "version": 2
   },
   "file_extension": ".py",
   "mimetype": "text/x-python",
   "name": "python",
   "nbconvert_exporter": "python",
   "pygments_lexer": "ipython2",
   "version": "2.7.11"
  }
 },
 "nbformat": 4,
 "nbformat_minor": 0
}
