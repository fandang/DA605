{
 "cells": [
  {
   "cell_type": "markdown",
   "metadata": {},
   "source": [
    "### Homework Instructions:"
   ]
  },
  {
   "cell_type": "markdown",
   "metadata": {},
   "source": [
    "Perform a Monte Carlo simulation to calculate Value at Risk (VaR) for the Apple stock price using the file attached to this lesson. \n",
    "There exist a number of ways to do this type of analysis, but you can follow this basic procedure \n",
    "(refer to this PDF (mc.pdf) for a more rigorous mathematical overview):\n",
    "\n",
    "The file (apple.2011.csv) has 3 columns: date, price, and percent change.  \n",
    "The information you are really interested in is the percent change.  \n",
    "This value is the percent change in the price from the previous date to the date on the corresponding row.\n",
    "\n",
    "Use the percent change values to create a Gaussian random number generator.  \n",
    "This generator will create Gaussian-distributed randoms to use as hypothetical percent changes on the day to day price of Apple stock.\n",
    "\n",
    "With that generator, create 20 random numbers.  With these randoms, you can find a potential price change over 20 days.\n",
    "\n",
    "Start with the price from the last row and the random numbers to determine a hypothetical price after 20 days.  \n",
    "To do this, take that last price, apply a percent change and get a new price.  \n",
    "Then take that new price, and apply the next percent change.  Do this for the 20 randoms, and get a final price.\n",
    "\n",
    "Store the final price after 20 days (you can discard the intermediate price values).\n",
    "\n",
    "Repeat steps 3-5 a very large number of times.  Something like 10000.  Each run will yield a different result.\n",
    "\n",
    "Take all of the stored prices (10000 or so), sort them, and find the 1% lowest percentile.  \n",
    "This value is the final result, and represents the VaR with 99% confidence.  \n",
    "This means that the price will be above this result after 20 days with a confidence level of 99%.\n",
    "\n",
    "The other requirement for this assignment is to use an IPython Notebook.  \n",
    "Include in the notebook all the code, the results, and any other information you feel is needed (charts, graphs, plots, etc).  \n",
    "Rather than submitting .py files, give me the .ipynb file for your notebook.\n"
   ]
  },
  {
   "cell_type": "markdown",
   "metadata": {},
   "source": [
    "### Some Imports and Constants:"
   ]
  },
  {
   "cell_type": "code",
   "execution_count": 5,
   "metadata": {
    "collapsed": true
   },
   "outputs": [],
   "source": [
    "import pandas as pd\n",
    "import numpy as np\n",
    "import matplotlib.pyplot as plt\n",
    "from decimal import *\n",
    "\n",
    "SHOW_PLOT = True\n",
    "NUM_DAYS = 20\n",
    "NUM_ITERATIONS = 10000\n",
    "#NUM_ITERATIONS = 1000\n",
    "PRICE_FROM_LAST_ROW = 405\n",
    "DEBUG_PRINT_PRICES_IN_LOOP = False"
   ]
  },
  {
   "cell_type": "markdown",
   "metadata": {},
   "source": [
    "### Load the Data and Check it Out:"
   ]
  },
  {
   "cell_type": "code",
   "execution_count": 6,
   "metadata": {
    "collapsed": false
   },
   "outputs": [
    {
     "name": "stdout",
     "output_type": "stream",
     "text": [
      "---------------------\n",
      "THE HEAD 10: \n",
      "---------------------\n",
      "        Date     Last  PctChange\n",
      "1   1/4/2011  331.290   0.005219\n",
      "2   1/5/2011  334.000   0.008180\n",
      "3   1/6/2011  333.730  -0.000808\n",
      "4   1/7/2011  336.120   0.007161\n",
      "5  1/10/2011  342.455   0.018847\n",
      "---------------------\n",
      "THE TAIL 10: \n",
      "---------------------\n",
      "           Date    Last  PctChange\n",
      "247  12/23/2011  403.33   0.011993\n",
      "248  12/27/2011  406.53   0.007934\n",
      "249  12/28/2011  402.64  -0.009569\n",
      "250  12/29/2011  405.12   0.006159\n",
      "251  12/30/2011  405.00  -0.000296\n"
     ]
    }
   ],
   "source": [
    "# next line is just for iPython\n",
    "# %matplotlib inline\n",
    "df = pd.read_csv('apple.2011.csv')\n",
    "df.columns = ['Date','Last','PctChange']\n",
    "\n",
    "df.PctChange = pd.to_numeric(df.PctChange, errors='coerce')\n",
    "# only keep the rows with numeric change:\n",
    "df = df[df.PctChange * df.PctChange > 0]\n",
    "\n",
    "print('---------------------')\n",
    "print('THE HEAD 10: ')\n",
    "print('---------------------')\n",
    "print df.head()\n",
    "print('---------------------')\n",
    "print('THE TAIL 10: ')\n",
    "print('---------------------')\n",
    "print df.tail()"
   ]
  },
  {
   "cell_type": "markdown",
   "metadata": {},
   "source": [
    "### Plot some of the actual prices:"
   ]
  },
  {
   "cell_type": "code",
   "execution_count": null,
   "metadata": {
    "collapsed": false
   },
   "outputs": [],
   "source": [
    "change_plot = df.PctChange.hist(bins=20)\n",
    "change_plot.set_title(\"Value at Risk (VaR)\")\n",
    "change_plot.set_xlabel(\"Num Days with\")\n",
    "change_plot.set_ylabel(\"Pct Change\")\n",
    "if(SHOW_PLOT):\n",
    "\tplt.show(change_plot)"
   ]
  },
  {
   "cell_type": "markdown",
   "metadata": {},
   "source": [
    "### Look at some of the % changes"
   ]
  },
  {
   "cell_type": "code",
   "execution_count": null,
   "metadata": {
    "collapsed": false
   },
   "outputs": [],
   "source": [
    "df[\"PctChange\"] = df[\"PctChange\"].astype(float)\n",
    "daily_changes = df[\"PctChange\"].tolist()\n",
    "\n",
    "print('---------------------')\n",
    "print \"sample daily_changes:\"\n",
    "print('---------------------')\n",
    "print daily_changes[:10]"
   ]
  },
  {
   "cell_type": "markdown",
   "metadata": {},
   "source": [
    "### Some other helpful numbers:"
   ]
  },
  {
   "cell_type": "code",
   "execution_count": null,
   "metadata": {
    "collapsed": false
   },
   "outputs": [],
   "source": [
    "# spreadsheet says 0.24=SUM(C3:C253) - just double checking that the mean really is zero.\n",
    "daily_change_min = min(daily_changes)\n",
    "daily_change_max = max(daily_changes)\n",
    "daily_change_mean = np.mean(daily_changes)\n",
    "daily_change_sum = sum(daily_changes)\n",
    "daily_change_count = len(daily_changes)\n",
    "\n",
    "mu = (daily_change_sum / daily_change_count)\n",
    "sigma = np.std(daily_changes)\n",
    "\n",
    "print('---------------------')\n",
    "print('Some Helpful Values:')\n",
    "print('---------------------')\n",
    "print('PRICE_FROM_LAST_ROW: %f' % PRICE_FROM_LAST_ROW)\n",
    "print(\"MAX: %f\" % daily_change_max)\n",
    "print(\"MEAN: %f\" % daily_change_mean)\n",
    "print(\"SUM: %f\" % daily_change_sum)\n",
    "print(\"COUNT: %f\" % daily_change_count)\n",
    "print(\"MU: %f\" % mu)\n",
    "print(\"SIGMA: %f\" % sigma)\n",
    "print('---------------------')"
   ]
  },
  {
   "cell_type": "code",
   "execution_count": null,
   "metadata": {
    "collapsed": true
   },
   "outputs": [],
   "source": []
  },
  {
   "cell_type": "markdown",
   "metadata": {},
   "source": [
    "## Now Run the Loop\""
   ]
  },
  {
   "cell_type": "code",
   "execution_count": null,
   "metadata": {
    "collapsed": false
   },
   "outputs": [],
   "source": [
    "end_prices = []\n",
    "\n",
    "for i in range(1,NUM_ITERATIONS):\n",
    "    daily_price = PRICE_FROM_LAST_ROW\n",
    "    sample = np.random.normal(mu, sigma, NUM_DAYS)\n",
    "\n",
    "    for next_change_pct in sample:\n",
    "        daily_price = daily_price + (daily_price * next_change_pct)\n",
    "\n",
    "    if(i % 1000 == 0):\n",
    "        print(\"Iteration #%i = %d\" % (i,daily_price))\n",
    "\n",
    "    if(DEBUG_PRINT_PRICES_IN_LOOP):\n",
    "        print(\"END PRICE: \", daily_price)\n",
    "    end_prices.append(daily_price)\n",
    "\n",
    "end_prices_sorted = sorted(end_prices)\n",
    "array_index_to_get = NUM_ITERATIONS / 100\n",
    "print('-----------------------------------')\n",
    "print('THE 1 PERCENT PRICE IS: %d ' % end_prices_sorted[array_index_to_get])\n",
    "print('-----------------------------------')"
   ]
  },
  {
   "cell_type": "markdown",
   "metadata": {
    "collapsed": false
   },
   "source": [
    "### So 99% of the time, AAPLers would have remained above 346 dollars per share after 20 days!"
   ]
  },
  {
   "cell_type": "code",
   "execution_count": 24,
   "metadata": {
    "collapsed": false
   },
   "outputs": [
    {
     "data": {
      "image/png": "[encoded data removed]",
      "text/plain": [
       "<matplotlib.figure.Figure at 0xeec3470>"
      ]
     },
     "metadata": {},
     "output_type": "display_data"
    }
   ],
   "source": [
    "prices_df = pd.DataFrame(end_prices)\n",
    "prices_df.columns = ['PRICE']\n",
    "\n",
    "end_price_plot = prices_df.PRICE.hist(bins=20)\n",
    "end_price_plot.set_title(\"END PRICES\")\n",
    "end_price_plot.set_xlabel(\"Price\")\n",
    "end_price_plot.set_ylabel(\"Count\")\n",
    "if(SHOW_PLOT):\n",
    "\tplt.show(end_price_plot)\n"
   ]
  },
  {
   "cell_type": "code",
   "execution_count": null,
   "metadata": {
    "collapsed": true
   },
   "outputs": [],
   "source": []
  }
 ],
 "metadata": {
  "kernelspec": {
   "display_name": "Python 2",
   "language": "python",
   "name": "python2"
  },
  "language_info": {
   "codemirror_mode": {
    "name": "ipython",
    "version": 2
   },
   "file_extension": ".py",
   "mimetype": "text/x-python",
   "name": "python",
   "nbconvert_exporter": "python",
   "pygments_lexer": "ipython2",
   "version": "2.7.11"
  }
 },
 "nbformat": 4,
 "nbformat_minor": 0
}
